{
 "cells": [
  {
   "cell_type": "markdown",
   "metadata": {},
   "source": [
    "# Generative Adversarial Network\n",
    "\n",
    "In this notebook, we'll be building a generative adversarial network (GAN) trained on the MNIST dataset. From this, we'll be able to generate new handwritten digits!\n",
    "\n",
    "GANs were [first reported on](https://arxiv.org/abs/1406.2661) in 2014 from Ian Goodfellow and others in Yoshua Bengio's lab. Since then, GANs have exploded in popularity. Here are a few examples to check out:\n",
    "\n",
    "* [Pix2Pix](https://affinelayer.com/pixsrv/) \n",
    "* [CycleGAN & Pix2Pix in PyTorch, Jun-Yan Zhu](https://github.com/junyanz/pytorch-CycleGAN-and-pix2pix)\n",
    "* [A list of generative models](https://github.com/wiseodd/generative-models)\n",
    "\n",
    "The idea behind GANs is that you have two networks, a generator $G$ and a discriminator $D$, competing against each other. The generator makes \"fake\" data to pass to the discriminator. The discriminator also sees real training data and predicts if the data it's received is real or fake. \n",
    "> * The generator is trained to fool the discriminator, it wants to output data that looks _as close as possible_ to real, training data. \n",
    "* The discriminator is a classifier that is trained to figure out which data is real and which is fake. \n",
    "\n",
    "What ends up happening is that the generator learns to make data that is indistinguishable from real data to the discriminator.\n",
    "\n",
    "<img src='assets/gan_pipeline.png' width=70% />\n",
    "\n",
    "The general structure of a GAN is shown in the diagram above, using MNIST images as data. The latent sample is a random vector that the generator uses to construct its fake images. This is often called a **latent vector** and that vector space is called **latent space**. As the generator trains, it figures out how to map latent vectors to recognizable images that can fool the discriminator.\n",
    "\n",
    "If you're interested in generating only new images, you can throw out the discriminator after training. In this notebook, I'll show you how to define and train these adversarial networks in PyTorch and generate new images!"
   ]
  },
  {
   "cell_type": "code",
   "execution_count": 2,
   "metadata": {},
   "outputs": [],
   "source": [
    "%matplotlib inline\n",
    "\n",
    "import numpy as np\n",
    "import torch\n",
    "import matplotlib.pyplot as plt"
   ]
  },
  {
   "cell_type": "code",
   "execution_count": 3,
   "metadata": {},
   "outputs": [],
   "source": [
    "from torchvision import datasets\n",
    "import torchvision.transforms as transforms\n",
    "\n",
    "# number of subprocesses to use for data loading\n",
    "num_workers = 0\n",
    "# how many samples per batch to load\n",
    "batch_size = 64\n",
    "\n",
    "# convert data to torch.FloatTensor\n",
    "transform = transforms.ToTensor()\n",
    "\n",
    "# get the training datasets\n",
    "train_data = datasets.MNIST(root='data', train=True,\n",
    "                                   download=True, transform=transform)\n",
    "\n",
    "# prepare data loader\n",
    "train_loader = torch.utils.data.DataLoader(train_data, batch_size=batch_size,\n",
    "                                           num_workers=num_workers)"
   ]
  },
  {
   "cell_type": "markdown",
   "metadata": {},
   "source": [
    "### Visualize the data"
   ]
  },
  {
   "cell_type": "code",
   "execution_count": 4,
   "metadata": {},
   "outputs": [
    {
     "data": {
      "text/plain": [
       "<matplotlib.image.AxesImage at 0x1266eed68>"
      ]
     },
     "execution_count": 4,
     "metadata": {},
     "output_type": "execute_result"
    },
    {
     "data": {
      "image/png": "[encoded data removed]",
      "text/plain": [
       "<Figure size 216x216 with 1 Axes>"
      ]
     },
     "metadata": {},
     "output_type": "display_data"
    }
   ],
   "source": [
    "# obtain one batch of training images\n",
    "dataiter = iter(train_loader)\n",
    "images, labels = dataiter.next()\n",
    "images = images.numpy()\n",
    "\n",
    "# get one image from the batch\n",
    "img = np.squeeze(images[0])\n",
    "\n",
    "fig = plt.figure(figsize = (3,3)) \n",
    "ax = fig.add_subplot(111)\n",
    "ax.imshow(img, cmap='gray')"
   ]
  },
  {
   "cell_type": "markdown",
   "metadata": {},
   "source": [
    "---\n",
    "# Define the Model\n",
    "\n",
    "A GAN is comprised of two adversarial networks, a discriminator and a generator."
   ]
  },
  {
   "cell_type": "markdown",
   "metadata": {},
   "source": [
    "## Discriminator\n",
    "\n",
    "The discriminator network is going to be a pretty typical linear classifier. To make this network a universal function approximator, we'll need at least one hidden layer, and these hidden layers should have one key attribute:\n",
    "> All hidden layers will have a [Leaky ReLu](https://pytorch.org/docs/stable/nn.html#torch.nn.LeakyReLU) activation function applied to their outputs.\n",
    "\n",
    "<img src='assets/gan_network.png' width=70% />\n",
    "\n",
    "#### Leaky ReLu\n",
    "\n",
    "We should use a leaky ReLU to allow gradients to flow backwards through the layer unimpeded. A leaky ReLU is like a normal ReLU, except that there is a small non-zero output for negative input values.\n",
    "\n",
    "<img src='assets/leaky_relu.png' width=40% />\n",
    "\n",
    "#### Sigmoid Output\n",
    "\n",
    "We'll also take the approach of using a more numerically stable loss function on the outputs. Recall that we want the discriminator to output a value 0-1 indicating whether an image is _real or fake_. \n",
    "> We will ultimately use [BCEWithLogitsLoss](https://pytorch.org/docs/stable/nn.html#bcewithlogitsloss), which combines a `sigmoid` activation function **and** and binary cross entropy loss in one function. \n",
    "\n",
    "So, our final output layer should not have any activation function applied to it."
   ]
  },
  {
   "cell_type": "code",
   "execution_count": 5,
   "metadata": {},
   "outputs": [],
   "source": [
    "import torch.nn as nn\n",
    "import torch.nn.functional as F\n",
    "\n",
    "class Discriminator(nn.Module):\n",
    "\n",
    "    def __init__(self, input_size, hidden_dim, output_size):\n",
    "        super(Discriminator, self).__init__()\n",
    "        self.fc1 = nn.Linear(input_size, hidden_dim*4)\n",
    "        self.fc2 = nn.Linear(hidden_dim*4, hidden_dim*2)\n",
    "        self.fc3 = nn.Linear(hidden_dim*2, hidden_dim)\n",
    "        \n",
    "        self.fc4=nn.Linear(hidden_dim, output_size)\n",
    "        self.dropout= nn.Dropout(0.3)\n",
    "        \n",
    "        \n",
    "        \n",
    "    def forward(self, x):\n",
    "        # flatten image\n",
    "        x= x.view(-1,28 * 28)\n",
    "        x= F.leaky_relu(self.fc1(x),0.2) # 0.2 is the -ve slope \n",
    "        x= self.dropout(x)\n",
    "        x = F.leaky_relu(self.fc2(x),.2)\n",
    "        \n",
    "        x = self.dropout(x)\n",
    "        \n",
    "        x = F.leaky_relu(self.fc3(x),.2)\n",
    "        x = self.dropout(x)\n",
    "        \n",
    "        out = self.fc4(x)\n",
    "        \n",
    "        # pass x through all layers\n",
    "        # apply leaky\n",
    "#         relu activation to all hidden layers\n",
    "        \n",
    "        return out\n"
   ]
  },
  {
   "cell_type": "markdown",
   "metadata": {},
   "source": [
    "## Generator\n",
    "\n",
    "The generator network will be almost exactly the same as the discriminator network, except that we're applying a [tanh activation function](https://pytorch.org/docs/stable/nn.html#tanh) to our output layer.\n",
    "\n",
    "#### tanh Output\n",
    "The generator has been found to perform the best with $tanh$ for the generator output, which scales the output to be between -1 and 1, instead of 0 and 1. \n",
    "\n",
    "<img src='assets/tanh_fn.png' width=40% />\n",
    "\n",
    "Recall that we also want these outputs to be comparable to the *real* input pixel values, which are read in as normalized values between 0 and 1. \n",
    "> So, we'll also have to **scale our real input images to have pixel values between -1 and 1** when we train the discriminator. \n",
    "\n",
    "I'll do this in the training loop, later on."
   ]
  },
  {
   "cell_type": "code",
   "execution_count": 6,
   "metadata": {},
   "outputs": [],
   "source": [
    "class Generator(nn.Module):\n",
    "\n",
    "    def __init__(self, input_size, hidden_dim, output_size):\n",
    "        super(Generator, self).__init__()\n",
    "        self.fc1 = nn.Linear(input_size, hidden_dim)\n",
    "        self.fc2 = nn.Linear(hidden_dim, hidden_dim*2)\n",
    "        self.fc3 = nn.Linear(hidden_dim*2, hidden_dim * 4)\n",
    "        self.fc4 = nn.Linear(hidden_dim *4, output_size)\n",
    "        self.dropout = nn.Dropout(0.3)\n",
    "\n",
    "\n",
    "        # define all layers\n",
    "        \n",
    "\n",
    "    def forward(self, x):\n",
    "        #         x= x.view(-1,784) not here bks we are generating the image \n",
    "        x = F.leaky_relu(self.fc1(x),0.2)\n",
    "        x = self.dropout(x)\n",
    "        x = F.leaky_relu(self.fc2(x),0.2)\n",
    "        x = self.dropout(x)\n",
    "        x = F.leaky_relu(self.fc3(x),0.2)\n",
    "        x = self.dropout(x)\n",
    "        x = F.tanh(self.fc4(x))\n",
    "\n",
    "        # pass x through all layers\n",
    "        \n",
    "        # final layer should have tanh applied\n",
    "        \n",
    "        return x"
   ]
  },
  {
   "cell_type": "markdown",
   "metadata": {},
   "source": [
    "## Model hyperparameters"
   ]
  },
  {
   "cell_type": "code",
   "execution_count": 7,
   "metadata": {},
   "outputs": [],
   "source": [
    "# Discriminator hyperparams\n",
    "\n",
    "# Size of input image to discriminator (28*28)\n",
    "input_size = 784\n",
    "# Size of discriminator output (real or fake)\n",
    "d_output_size = 1\n",
    "# Size of *last* hidden layer in the discriminator\n",
    "d_hidden_size = 32\n",
    "\n",
    "# Generator hyperparams\n",
    "\n",
    "# Size of latent vector to give to generator\n",
    "z_size = 100\n",
    "# Size of discriminator output (generated image)\n",
    "g_output_size = 784\n",
    "# Size of *first* hidden layer in the generator\n",
    "g_hidden_size = 32"
   ]
  },
  {
   "cell_type": "markdown",
   "metadata": {},
   "source": [
    "## Build complete network\n",
    "\n",
    "Now we're instantiating the discriminator and generator from the classes defined above. Make sure you've passed in the correct input arguments."
   ]
  },
  {
   "cell_type": "code",
   "execution_count": 8,
   "metadata": {},
   "outputs": [
    {
     "name": "stdout",
     "output_type": "stream",
     "text": [
      "Discriminator(\n",
      "  (fc1): Linear(in_features=784, out_features=128, bias=True)\n",
      "  (fc2): Linear(in_features=128, out_features=64, bias=True)\n",
      "  (fc3): Linear(in_features=64, out_features=32, bias=True)\n",
      "  (fc4): Linear(in_features=32, out_features=1, bias=True)\n",
      "  (dropout): Dropout(p=0.3)\n",
      ")\n",
      "\n",
      "Generator(\n",
      "  (fc1): Linear(in_features=100, out_features=32, bias=True)\n",
      "  (fc2): Linear(in_features=32, out_features=64, bias=True)\n",
      "  (fc3): Linear(in_features=64, out_features=128, bias=True)\n",
      "  (fc4): Linear(in_features=128, out_features=784, bias=True)\n",
      "  (dropout): Dropout(p=0.3)\n",
      ")\n"
     ]
    }
   ],
   "source": [
    "# instantiate discriminator and generator\n",
    "D = Discriminator(input_size, d_hidden_size, d_output_size)\n",
    "G = Generator(z_size, g_hidden_size, g_output_size)\n",
    "\n",
    "# check that they are as you expect\n",
    "print(D)\n",
    "print()\n",
    "print(G)"
   ]
  },
  {
   "cell_type": "markdown",
   "metadata": {},
   "source": [
    "---\n",
    "## Discriminator and Generator Losses\n",
    "\n",
    "Now we need to calculate the losses. \n",
    "\n",
    "### Discriminator Losses\n",
    "\n",
    "> * For the discriminator, the total loss is the sum of the losses for real and fake images, `d_loss = d_real_loss + d_fake_loss`. \n",
    "* Remember that we want the discriminator to output 1 for real images and 0 for fake images, so we need to set up the losses to reflect that.\n",
    "\n",
    "<img src='assets/gan_pipeline.png' width=70% />\n",
    "\n",
    "The losses will by binary cross entropy loss with logits, which we can get with [BCEWithLogitsLoss](https://pytorch.org/docs/stable/nn.html#bcewithlogitsloss). This combines a `sigmoid` activation function **and** and binary cross entropy loss in one function.\n",
    "\n",
    "For the real images, we want `D(real_images) = 1`. That is, we want the discriminator to classify the the real images with a label = 1, indicating that these are real. To help the discriminator generalize better, the labels are **reduced a bit from 1.0 to 0.9**. For this, we'll use the parameter `smooth`; if True, then we should smooth our labels. In PyTorch, this looks like `labels = torch.ones(size) * 0.9`\n",
    "\n",
    "The discriminator loss for the fake data is similar. We want `D(fake_images) = 0`, where the fake images are the _generator output_, `fake_images = G(z)`. \n",
    "\n",
    "### Generator Loss\n",
    "\n",
    "The generator loss will look similar only with flipped labels. The generator's goal is to get `D(fake_images) = 1`. In this case, the labels are **flipped** to represent that the generator is trying to fool the discriminator into thinking that the images it generates (fakes) are real!"
   ]
  },
  {
   "cell_type": "code",
   "execution_count": 9,
   "metadata": {},
   "outputs": [],
   "source": [
    "# Calculate losses\n",
    "def real_loss(D_out, smooth=False):\n",
    "    # compare logits to real labels\n",
    "    # smooth labels if smooth=True\n",
    "    batch_size = D_out.size(0)\n",
    "    if (smooth):\n",
    "        label = torch.ones(batch_size)*0.9\n",
    "    else:\n",
    "        label = torch.ones(batch_size)\n",
    "        \n",
    "    cartision =  nn.BCEWithLogitsLoss()\n",
    "    \n",
    "    loss = cartision(D_out.squeeze(), label)\n",
    "    return loss\n",
    "\n",
    "def fake_loss(D_out):\n",
    "    batch_size = D_out.size(0)\n",
    "    cartision = nn.BCEWithLogitsLoss()\n",
    "    label = torch.zeros(batch_size)\n",
    "    loss = cartision(D_out.squeeze(), label)\n",
    "    # compare logits to fake label\n",
    "    return loss"
   ]
  },
  {
   "cell_type": "markdown",
   "metadata": {},
   "source": [
    "## Optimizers\n",
    "\n",
    "We want to update the generator and discriminator variables separately. So, we'll define two separate Adam optimizers."
   ]
  },
  {
   "cell_type": "code",
   "execution_count": 10,
   "metadata": {
    "scrolled": true
   },
   "outputs": [],
   "source": [
    "import torch.optim as optim\n",
    "\n",
    "# learning rate for optimizers\n",
    "lr = 0.002\n",
    "\n",
    "# Create optimizers for the discriminator and generator\n",
    "d_optimizer = optim.Adam(D.parameters(), lr)\n",
    "g_optimizer = optim.Adam(G.parameters(), lr)"
   ]
  },
  {
   "cell_type": "markdown",
   "metadata": {},
   "source": [
    "---\n",
    "## Training\n",
    "\n",
    "Training will involve alternating between training the discriminator and the generator. We'll use our functions `real_loss` and `fake_loss` to help us calculate the discriminator losses in all of the following cases.\n",
    "\n",
    "### Discriminator training\n",
    "1. Compute the discriminator loss on real, training images        \n",
    "2. Generate fake images\n",
    "3. Compute the discriminator loss on fake, generated images     \n",
    "4. Add up real and fake loss\n",
    "5. Perform backpropagation + an optimization step to update the discriminator's weights\n",
    "\n",
    "### Generator training\n",
    "1. Generate fake images\n",
    "2. Compute the discriminator loss on fake images, using **flipped** labels!\n",
    "3. Perform backpropagation + an optimization step to update the generator's weights\n",
    "\n",
    "#### Saving Samples\n",
    "\n",
    "As we train, we'll also print out some loss statistics and save some generated \"fake\" samples."
   ]
  },
  {
   "cell_type": "code",
   "execution_count": 11,
   "metadata": {
    "scrolled": true
   },
   "outputs": [
    {
     "name": "stderr",
     "output_type": "stream",
     "text": [
      "/anaconda3/envs/self_driving/lib/python3.6/site-packages/torch/nn/functional.py:1374: UserWarning: nn.functional.tanh is deprecated. Use torch.tanh instead.\n",
      "  warnings.warn(\"nn.functional.tanh is deprecated. Use torch.tanh instead.\")\n"
     ]
    },
    {
     "name": "stdout",
     "output_type": "stream",
     "text": [
      "Epoch [    1/  100] | d_loss: 1.3685 | g_loss: 0.7305\n",
      "Epoch [    1/  100] | d_loss: 1.4725 | g_loss: 0.7358\n",
      "Epoch [    1/  100] | d_loss: 1.1875 | g_loss: 1.1619\n",
      "Epoch [    2/  100] | d_loss: 1.3151 | g_loss: 0.8424\n",
      "Epoch [    2/  100] | d_loss: 1.3682 | g_loss: 0.6598\n",
      "Epoch [    2/  100] | d_loss: 0.8870 | g_loss: 4.6860\n",
      "Epoch [    3/  100] | d_loss: 1.0117 | g_loss: 1.1843\n",
      "Epoch [    3/  100] | d_loss: 0.8917 | g_loss: 4.2618\n",
      "Epoch [    3/  100] | d_loss: 0.8753 | g_loss: 2.6783\n",
      "Epoch [    4/  100] | d_loss: 0.9504 | g_loss: 2.7115\n",
      "Epoch [    4/  100] | d_loss: 0.9099 | g_loss: 2.6940\n",
      "Epoch [    4/  100] | d_loss: 1.0532 | g_loss: 1.4669\n",
      "Epoch [    5/  100] | d_loss: 1.1484 | g_loss: 1.3714\n",
      "Epoch [    5/  100] | d_loss: 1.1501 | g_loss: 1.5430\n",
      "Epoch [    5/  100] | d_loss: 1.2957 | g_loss: 1.2078\n",
      "Epoch [    6/  100] | d_loss: 1.3205 | g_loss: 1.1144\n",
      "Epoch [    6/  100] | d_loss: 1.1353 | g_loss: 1.2300\n",
      "Epoch [    6/  100] | d_loss: 1.1011 | g_loss: 1.5605\n",
      "Epoch [    7/  100] | d_loss: 1.0871 | g_loss: 0.9512\n",
      "Epoch [    7/  100] | d_loss: 1.2417 | g_loss: 1.0446\n",
      "Epoch [    7/  100] | d_loss: 1.1448 | g_loss: 1.0541\n",
      "Epoch [    8/  100] | d_loss: 1.2464 | g_loss: 0.9485\n",
      "Epoch [    8/  100] | d_loss: 1.1737 | g_loss: 0.9947\n",
      "Epoch [    8/  100] | d_loss: 1.2369 | g_loss: 1.0251\n",
      "Epoch [    9/  100] | d_loss: 1.3131 | g_loss: 0.9690\n",
      "Epoch [    9/  100] | d_loss: 1.2035 | g_loss: 1.0937\n",
      "Epoch [    9/  100] | d_loss: 1.3802 | g_loss: 0.8837\n",
      "Epoch [   10/  100] | d_loss: 1.3923 | g_loss: 1.0304\n",
      "Epoch [   10/  100] | d_loss: 1.1569 | g_loss: 1.3513\n",
      "Epoch [   10/  100] | d_loss: 1.2119 | g_loss: 1.3620\n",
      "Epoch [   11/  100] | d_loss: 1.3309 | g_loss: 1.0272\n",
      "Epoch [   11/  100] | d_loss: 1.2876 | g_loss: 1.3746\n",
      "Epoch [   11/  100] | d_loss: 1.3936 | g_loss: 1.0102\n",
      "Epoch [   12/  100] | d_loss: 1.1508 | g_loss: 1.2351\n",
      "Epoch [   12/  100] | d_loss: 1.1780 | g_loss: 1.1827\n",
      "Epoch [   12/  100] | d_loss: 1.2746 | g_loss: 0.9695\n",
      "Epoch [   13/  100] | d_loss: 1.2508 | g_loss: 1.1177\n",
      "Epoch [   13/  100] | d_loss: 1.2845 | g_loss: 0.9001\n",
      "Epoch [   13/  100] | d_loss: 1.3581 | g_loss: 0.8836\n",
      "Epoch [   14/  100] | d_loss: 1.3618 | g_loss: 1.4645\n",
      "Epoch [   14/  100] | d_loss: 1.3073 | g_loss: 1.0187\n",
      "Epoch [   14/  100] | d_loss: 1.3755 | g_loss: 1.1472\n",
      "Epoch [   15/  100] | d_loss: 1.1894 | g_loss: 1.1740\n",
      "Epoch [   15/  100] | d_loss: 1.2431 | g_loss: 1.2371\n",
      "Epoch [   15/  100] | d_loss: 1.3692 | g_loss: 0.9157\n",
      "Epoch [   16/  100] | d_loss: 1.1867 | g_loss: 2.0935\n",
      "Epoch [   16/  100] | d_loss: 1.2193 | g_loss: 1.1953\n",
      "Epoch [   16/  100] | d_loss: 1.3725 | g_loss: 0.9553\n",
      "Epoch [   17/  100] | d_loss: 1.1553 | g_loss: 1.4473\n",
      "Epoch [   17/  100] | d_loss: 1.2293 | g_loss: 0.8984\n",
      "Epoch [   17/  100] | d_loss: 1.3539 | g_loss: 0.9496\n",
      "Epoch [   18/  100] | d_loss: 1.2967 | g_loss: 0.9933\n",
      "Epoch [   18/  100] | d_loss: 1.2491 | g_loss: 1.6123\n",
      "Epoch [   18/  100] | d_loss: 1.2715 | g_loss: 1.0069\n",
      "Epoch [   19/  100] | d_loss: 1.6728 | g_loss: 0.9342\n",
      "Epoch [   19/  100] | d_loss: 1.3115 | g_loss: 0.9203\n",
      "Epoch [   19/  100] | d_loss: 1.3124 | g_loss: 1.0096\n",
      "Epoch [   20/  100] | d_loss: 1.2682 | g_loss: 1.0769\n",
      "Epoch [   20/  100] | d_loss: 1.2285 | g_loss: 1.1078\n",
      "Epoch [   20/  100] | d_loss: 1.2999 | g_loss: 1.4181\n",
      "Epoch [   21/  100] | d_loss: 1.2751 | g_loss: 0.8920\n",
      "Epoch [   21/  100] | d_loss: 1.1965 | g_loss: 1.0911\n",
      "Epoch [   21/  100] | d_loss: 1.2531 | g_loss: 0.9484\n",
      "Epoch [   22/  100] | d_loss: 1.2836 | g_loss: 0.8920\n",
      "Epoch [   22/  100] | d_loss: 1.2719 | g_loss: 1.1443\n",
      "Epoch [   22/  100] | d_loss: 1.3195 | g_loss: 1.0795\n",
      "Epoch [   23/  100] | d_loss: 1.3047 | g_loss: 0.9111\n",
      "Epoch [   23/  100] | d_loss: 1.2246 | g_loss: 1.0685\n",
      "Epoch [   23/  100] | d_loss: 1.3412 | g_loss: 1.5660\n",
      "Epoch [   24/  100] | d_loss: 1.2139 | g_loss: 1.1901\n",
      "Epoch [   24/  100] | d_loss: 1.2137 | g_loss: 1.0773\n",
      "Epoch [   24/  100] | d_loss: 1.2927 | g_loss: 0.8555\n",
      "Epoch [   25/  100] | d_loss: 1.3467 | g_loss: 1.0062\n",
      "Epoch [   25/  100] | d_loss: 1.3183 | g_loss: 0.8990\n",
      "Epoch [   25/  100] | d_loss: 1.2724 | g_loss: 1.0226\n",
      "Epoch [   26/  100] | d_loss: 1.4032 | g_loss: 0.8970\n",
      "Epoch [   26/  100] | d_loss: 1.2868 | g_loss: 1.1230\n",
      "Epoch [   26/  100] | d_loss: 1.2812 | g_loss: 1.2060\n",
      "Epoch [   27/  100] | d_loss: 1.2640 | g_loss: 1.0066\n",
      "Epoch [   27/  100] | d_loss: 1.3113 | g_loss: 1.3167\n",
      "Epoch [   27/  100] | d_loss: 1.3868 | g_loss: 1.0074\n",
      "Epoch [   28/  100] | d_loss: 1.2829 | g_loss: 0.8926\n",
      "Epoch [   28/  100] | d_loss: 1.2981 | g_loss: 0.9442\n",
      "Epoch [   28/  100] | d_loss: 1.3103 | g_loss: 1.0274\n",
      "Epoch [   29/  100] | d_loss: 1.2785 | g_loss: 1.2569\n",
      "Epoch [   29/  100] | d_loss: 1.2551 | g_loss: 0.9642\n",
      "Epoch [   29/  100] | d_loss: 1.3383 | g_loss: 0.8769\n",
      "Epoch [   30/  100] | d_loss: 1.2556 | g_loss: 0.8065\n",
      "Epoch [   30/  100] | d_loss: 1.3213 | g_loss: 0.8124\n",
      "Epoch [   30/  100] | d_loss: 1.4146 | g_loss: 0.7721\n",
      "Epoch [   31/  100] | d_loss: 1.3007 | g_loss: 1.0001\n",
      "Epoch [   31/  100] | d_loss: 1.2219 | g_loss: 0.9924\n",
      "Epoch [   31/  100] | d_loss: 1.3867 | g_loss: 0.9696\n",
      "Epoch [   32/  100] | d_loss: 1.3579 | g_loss: 0.9013\n",
      "Epoch [   32/  100] | d_loss: 1.2967 | g_loss: 1.1174\n",
      "Epoch [   32/  100] | d_loss: 1.2375 | g_loss: 0.9621\n",
      "Epoch [   33/  100] | d_loss: 1.2337 | g_loss: 0.9739\n",
      "Epoch [   33/  100] | d_loss: 1.2463 | g_loss: 0.9376\n",
      "Epoch [   33/  100] | d_loss: 1.2943 | g_loss: 0.9083\n",
      "Epoch [   34/  100] | d_loss: 1.1991 | g_loss: 1.1778\n",
      "Epoch [   34/  100] | d_loss: 1.3120 | g_loss: 1.0132\n",
      "Epoch [   34/  100] | d_loss: 1.2259 | g_loss: 1.2808\n",
      "Epoch [   35/  100] | d_loss: 1.3414 | g_loss: 1.0253\n",
      "Epoch [   35/  100] | d_loss: 1.2701 | g_loss: 1.0682\n",
      "Epoch [   35/  100] | d_loss: 1.1928 | g_loss: 2.0176\n",
      "Epoch [   36/  100] | d_loss: 1.2955 | g_loss: 1.1098\n",
      "Epoch [   36/  100] | d_loss: 1.1454 | g_loss: 1.0610\n",
      "Epoch [   36/  100] | d_loss: 1.3240 | g_loss: 1.2413\n",
      "Epoch [   37/  100] | d_loss: 1.2760 | g_loss: 2.0295\n",
      "Epoch [   37/  100] | d_loss: 1.1888 | g_loss: 0.9902\n",
      "Epoch [   37/  100] | d_loss: 1.2654 | g_loss: 0.9864\n",
      "Epoch [   38/  100] | d_loss: 1.3475 | g_loss: 1.0602\n",
      "Epoch [   38/  100] | d_loss: 1.2036 | g_loss: 1.0515\n",
      "Epoch [   38/  100] | d_loss: 1.3535 | g_loss: 1.1090\n",
      "Epoch [   39/  100] | d_loss: 1.3221 | g_loss: 0.9675\n",
      "Epoch [   39/  100] | d_loss: 1.2090 | g_loss: 0.8549\n",
      "Epoch [   39/  100] | d_loss: 1.2631 | g_loss: 1.1236\n",
      "Epoch [   40/  100] | d_loss: 1.3060 | g_loss: 0.9586\n",
      "Epoch [   40/  100] | d_loss: 1.2522 | g_loss: 0.8276\n",
      "Epoch [   40/  100] | d_loss: 1.3427 | g_loss: 0.8121\n",
      "Epoch [   41/  100] | d_loss: 1.2907 | g_loss: 0.9192\n",
      "Epoch [   41/  100] | d_loss: 1.2972 | g_loss: 0.8338\n",
      "Epoch [   41/  100] | d_loss: 1.2640 | g_loss: 0.9375\n",
      "Epoch [   42/  100] | d_loss: 1.2872 | g_loss: 0.8041\n",
      "Epoch [   42/  100] | d_loss: 1.3419 | g_loss: 0.9819\n",
      "Epoch [   42/  100] | d_loss: 1.2940 | g_loss: 0.9587\n",
      "Epoch [   43/  100] | d_loss: 1.3462 | g_loss: 1.1267\n",
      "Epoch [   43/  100] | d_loss: 1.2594 | g_loss: 1.1160\n",
      "Epoch [   43/  100] | d_loss: 1.2325 | g_loss: 1.0270\n",
      "Epoch [   44/  100] | d_loss: 1.2709 | g_loss: 1.1438\n",
      "Epoch [   44/  100] | d_loss: 1.2375 | g_loss: 1.4524\n",
      "Epoch [   44/  100] | d_loss: 1.2913 | g_loss: 0.9216\n",
      "Epoch [   45/  100] | d_loss: 1.2934 | g_loss: 0.8753\n",
      "Epoch [   45/  100] | d_loss: 1.3473 | g_loss: 1.1486\n",
      "Epoch [   45/  100] | d_loss: 1.3473 | g_loss: 1.1223\n",
      "Epoch [   46/  100] | d_loss: 1.3319 | g_loss: 0.8553\n",
      "Epoch [   46/  100] | d_loss: 1.3593 | g_loss: 1.1211\n",
      "Epoch [   46/  100] | d_loss: 1.3978 | g_loss: 0.9325\n",
      "Epoch [   47/  100] | d_loss: 1.3009 | g_loss: 1.0430\n",
      "Epoch [   47/  100] | d_loss: 1.2915 | g_loss: 1.4581\n",
      "Epoch [   47/  100] | d_loss: 1.2492 | g_loss: 1.2579\n",
      "Epoch [   48/  100] | d_loss: 1.2686 | g_loss: 0.9636\n",
      "Epoch [   48/  100] | d_loss: 1.2661 | g_loss: 0.8705\n",
      "Epoch [   48/  100] | d_loss: 1.4376 | g_loss: 0.9549\n",
      "Epoch [   49/  100] | d_loss: 1.3467 | g_loss: 0.8879\n",
      "Epoch [   49/  100] | d_loss: 1.2769 | g_loss: 0.8849\n",
      "Epoch [   49/  100] | d_loss: 1.2615 | g_loss: 0.9926\n",
      "Epoch [   50/  100] | d_loss: 1.2376 | g_loss: 1.0591\n",
      "Epoch [   50/  100] | d_loss: 1.3337 | g_loss: 0.9883\n",
      "Epoch [   50/  100] | d_loss: 1.2485 | g_loss: 0.9233\n",
      "Epoch [   51/  100] | d_loss: 1.2658 | g_loss: 1.0566\n",
      "Epoch [   51/  100] | d_loss: 1.1616 | g_loss: 1.3164\n"
     ]
    },
    {
     "name": "stdout",
     "output_type": "stream",
     "text": [
      "Epoch [   51/  100] | d_loss: 1.3397 | g_loss: 0.8899\n",
      "Epoch [   52/  100] | d_loss: 1.2874 | g_loss: 0.9222\n",
      "Epoch [   52/  100] | d_loss: 1.3058 | g_loss: 0.6990\n",
      "Epoch [   52/  100] | d_loss: 1.2738 | g_loss: 1.3329\n",
      "Epoch [   53/  100] | d_loss: 1.3098 | g_loss: 0.8936\n",
      "Epoch [   53/  100] | d_loss: 1.3130 | g_loss: 0.8659\n",
      "Epoch [   53/  100] | d_loss: 1.2987 | g_loss: 1.2055\n",
      "Epoch [   54/  100] | d_loss: 1.3068 | g_loss: 0.8249\n",
      "Epoch [   54/  100] | d_loss: 1.3705 | g_loss: 0.9749\n",
      "Epoch [   54/  100] | d_loss: 1.2959 | g_loss: 1.1306\n",
      "Epoch [   55/  100] | d_loss: 1.3932 | g_loss: 0.9212\n",
      "Epoch [   55/  100] | d_loss: 1.2404 | g_loss: 0.9114\n",
      "Epoch [   55/  100] | d_loss: 1.2461 | g_loss: 1.0383\n",
      "Epoch [   56/  100] | d_loss: 1.1918 | g_loss: 1.0886\n",
      "Epoch [   56/  100] | d_loss: 1.3085 | g_loss: 0.9781\n",
      "Epoch [   56/  100] | d_loss: 1.2578 | g_loss: 1.3275\n",
      "Epoch [   57/  100] | d_loss: 1.3557 | g_loss: 1.0504\n",
      "Epoch [   57/  100] | d_loss: 1.2237 | g_loss: 1.0635\n",
      "Epoch [   57/  100] | d_loss: 1.3162 | g_loss: 1.0658\n",
      "Epoch [   58/  100] | d_loss: 1.2600 | g_loss: 1.2477\n",
      "Epoch [   58/  100] | d_loss: 1.3246 | g_loss: 0.9403\n",
      "Epoch [   58/  100] | d_loss: 1.2873 | g_loss: 1.0184\n",
      "Epoch [   59/  100] | d_loss: 1.2711 | g_loss: 0.9386\n",
      "Epoch [   59/  100] | d_loss: 1.1736 | g_loss: 0.9465\n",
      "Epoch [   59/  100] | d_loss: 1.3766 | g_loss: 0.9959\n",
      "Epoch [   60/  100] | d_loss: 1.2979 | g_loss: 0.9415\n",
      "Epoch [   60/  100] | d_loss: 1.1743 | g_loss: 0.9462\n",
      "Epoch [   60/  100] | d_loss: 1.3737 | g_loss: 0.8719\n",
      "Epoch [   61/  100] | d_loss: 1.3232 | g_loss: 0.8291\n",
      "Epoch [   61/  100] | d_loss: 1.2931 | g_loss: 1.0012\n",
      "Epoch [   61/  100] | d_loss: 1.3542 | g_loss: 0.9199\n",
      "Epoch [   62/  100] | d_loss: 1.3502 | g_loss: 0.8971\n",
      "Epoch [   62/  100] | d_loss: 1.3151 | g_loss: 1.0427\n",
      "Epoch [   62/  100] | d_loss: 1.2877 | g_loss: 0.9808\n",
      "Epoch [   63/  100] | d_loss: 1.2980 | g_loss: 0.9931\n",
      "Epoch [   63/  100] | d_loss: 1.2178 | g_loss: 1.4148\n",
      "Epoch [   63/  100] | d_loss: 1.4551 | g_loss: 1.0118\n",
      "Epoch [   64/  100] | d_loss: 1.2845 | g_loss: 0.8009\n",
      "Epoch [   64/  100] | d_loss: 1.2967 | g_loss: 1.0752\n",
      "Epoch [   64/  100] | d_loss: 1.3186 | g_loss: 1.0671\n",
      "Epoch [   65/  100] | d_loss: 1.3832 | g_loss: 1.5640\n",
      "Epoch [   65/  100] | d_loss: 1.3466 | g_loss: 0.9606\n",
      "Epoch [   65/  100] | d_loss: 1.3385 | g_loss: 0.9389\n",
      "Epoch [   66/  100] | d_loss: 1.2672 | g_loss: 0.8171\n",
      "Epoch [   66/  100] | d_loss: 1.2321 | g_loss: 0.9416\n",
      "Epoch [   66/  100] | d_loss: 1.3438 | g_loss: 0.9329\n",
      "Epoch [   67/  100] | d_loss: 1.2862 | g_loss: 1.4606\n",
      "Epoch [   67/  100] | d_loss: 1.4125 | g_loss: 1.0584\n",
      "Epoch [   67/  100] | d_loss: 1.3936 | g_loss: 1.0226\n",
      "Epoch [   68/  100] | d_loss: 1.3363 | g_loss: 0.8336\n",
      "Epoch [   68/  100] | d_loss: 1.2322 | g_loss: 1.0235\n",
      "Epoch [   68/  100] | d_loss: 1.3812 | g_loss: 0.7421\n",
      "Epoch [   69/  100] | d_loss: 1.2871 | g_loss: 1.0018\n",
      "Epoch [   69/  100] | d_loss: 1.3464 | g_loss: 0.9356\n",
      "Epoch [   69/  100] | d_loss: 1.2640 | g_loss: 1.0431\n",
      "Epoch [   70/  100] | d_loss: 1.3212 | g_loss: 1.0173\n",
      "Epoch [   70/  100] | d_loss: 1.2496 | g_loss: 0.9394\n",
      "Epoch [   70/  100] | d_loss: 1.5016 | g_loss: 0.9861\n",
      "Epoch [   71/  100] | d_loss: 1.2478 | g_loss: 1.0429\n",
      "Epoch [   71/  100] | d_loss: 1.3423 | g_loss: 1.0472\n",
      "Epoch [   71/  100] | d_loss: 1.3184 | g_loss: 1.0959\n",
      "Epoch [   72/  100] | d_loss: 1.2674 | g_loss: 0.8243\n",
      "Epoch [   72/  100] | d_loss: 1.2797 | g_loss: 1.1294\n",
      "Epoch [   72/  100] | d_loss: 1.3928 | g_loss: 0.8941\n",
      "Epoch [   73/  100] | d_loss: 1.3837 | g_loss: 1.0744\n",
      "Epoch [   73/  100] | d_loss: 1.2292 | g_loss: 1.1628\n",
      "Epoch [   73/  100] | d_loss: 1.2744 | g_loss: 1.1614\n",
      "Epoch [   74/  100] | d_loss: 1.2244 | g_loss: 1.0850\n",
      "Epoch [   74/  100] | d_loss: 1.2134 | g_loss: 0.8363\n",
      "Epoch [   74/  100] | d_loss: 1.3134 | g_loss: 0.9456\n",
      "Epoch [   75/  100] | d_loss: 1.3763 | g_loss: 1.3877\n",
      "Epoch [   75/  100] | d_loss: 1.2483 | g_loss: 0.8934\n",
      "Epoch [   75/  100] | d_loss: 1.3727 | g_loss: 0.9664\n",
      "Epoch [   76/  100] | d_loss: 1.3260 | g_loss: 1.0484\n",
      "Epoch [   76/  100] | d_loss: 1.2992 | g_loss: 1.0451\n",
      "Epoch [   76/  100] | d_loss: 1.3438 | g_loss: 1.5146\n",
      "Epoch [   77/  100] | d_loss: 1.2015 | g_loss: 1.3066\n",
      "Epoch [   77/  100] | d_loss: 1.2006 | g_loss: 1.2720\n",
      "Epoch [   77/  100] | d_loss: 1.2875 | g_loss: 0.9092\n",
      "Epoch [   78/  100] | d_loss: 1.2338 | g_loss: 1.0975\n",
      "Epoch [   78/  100] | d_loss: 1.2923 | g_loss: 0.9612\n",
      "Epoch [   78/  100] | d_loss: 1.3180 | g_loss: 0.8978\n",
      "Epoch [   79/  100] | d_loss: 1.2536 | g_loss: 1.1574\n",
      "Epoch [   79/  100] | d_loss: 1.2909 | g_loss: 1.0003\n",
      "Epoch [   79/  100] | d_loss: 1.3226 | g_loss: 0.9489\n",
      "Epoch [   80/  100] | d_loss: 1.3525 | g_loss: 1.3605\n",
      "Epoch [   80/  100] | d_loss: 1.2485 | g_loss: 1.0087\n",
      "Epoch [   80/  100] | d_loss: 1.3724 | g_loss: 1.3748\n",
      "Epoch [   81/  100] | d_loss: 1.3368 | g_loss: 0.8934\n",
      "Epoch [   81/  100] | d_loss: 1.2914 | g_loss: 0.9494\n",
      "Epoch [   81/  100] | d_loss: 1.3186 | g_loss: 1.0616\n",
      "Epoch [   82/  100] | d_loss: 1.2661 | g_loss: 0.8496\n",
      "Epoch [   82/  100] | d_loss: 1.1164 | g_loss: 1.0211\n",
      "Epoch [   82/  100] | d_loss: 1.2616 | g_loss: 1.0483\n",
      "Epoch [   83/  100] | d_loss: 1.3492 | g_loss: 1.2509\n",
      "Epoch [   83/  100] | d_loss: 1.2788 | g_loss: 0.9430\n",
      "Epoch [   83/  100] | d_loss: 1.3864 | g_loss: 1.4175\n",
      "Epoch [   84/  100] | d_loss: 1.2859 | g_loss: 1.4412\n",
      "Epoch [   84/  100] | d_loss: 1.2547 | g_loss: 0.9758\n",
      "Epoch [   84/  100] | d_loss: 1.3868 | g_loss: 0.9771\n",
      "Epoch [   85/  100] | d_loss: 1.3560 | g_loss: 1.0143\n",
      "Epoch [   85/  100] | d_loss: 1.2762 | g_loss: 0.8564\n",
      "Epoch [   85/  100] | d_loss: 1.2920 | g_loss: 0.9882\n",
      "Epoch [   86/  100] | d_loss: 1.2787 | g_loss: 0.8942\n",
      "Epoch [   86/  100] | d_loss: 1.1825 | g_loss: 1.0012\n",
      "Epoch [   86/  100] | d_loss: 1.3737 | g_loss: 1.1240\n",
      "Epoch [   87/  100] | d_loss: 1.2141 | g_loss: 0.9322\n",
      "Epoch [   87/  100] | d_loss: 1.1778 | g_loss: 1.5424\n",
      "Epoch [   87/  100] | d_loss: 1.3241 | g_loss: 1.0255\n",
      "Epoch [   88/  100] | d_loss: 1.3717 | g_loss: 1.1448\n",
      "Epoch [   88/  100] | d_loss: 1.1795 | g_loss: 1.5295\n",
      "Epoch [   88/  100] | d_loss: 1.3966 | g_loss: 1.1133\n",
      "Epoch [   89/  100] | d_loss: 1.2811 | g_loss: 1.0936\n",
      "Epoch [   89/  100] | d_loss: 1.3090 | g_loss: 1.2208\n",
      "Epoch [   89/  100] | d_loss: 1.2381 | g_loss: 1.0845\n",
      "Epoch [   90/  100] | d_loss: 1.2545 | g_loss: 0.9742\n",
      "Epoch [   90/  100] | d_loss: 1.1622 | g_loss: 1.1480\n",
      "Epoch [   90/  100] | d_loss: 1.3359 | g_loss: 1.0682\n",
      "Epoch [   91/  100] | d_loss: 1.3215 | g_loss: 0.7519\n",
      "Epoch [   91/  100] | d_loss: 1.2738 | g_loss: 1.0430\n",
      "Epoch [   91/  100] | d_loss: 1.2640 | g_loss: 1.1987\n",
      "Epoch [   92/  100] | d_loss: 1.2470 | g_loss: 1.1468\n",
      "Epoch [   92/  100] | d_loss: 1.2550 | g_loss: 0.8986\n",
      "Epoch [   92/  100] | d_loss: 1.2946 | g_loss: 1.1603\n",
      "Epoch [   93/  100] | d_loss: 1.2405 | g_loss: 1.0572\n",
      "Epoch [   93/  100] | d_loss: 1.2919 | g_loss: 0.9889\n",
      "Epoch [   93/  100] | d_loss: 1.2930 | g_loss: 1.1813\n",
      "Epoch [   94/  100] | d_loss: 1.2434 | g_loss: 1.2166\n",
      "Epoch [   94/  100] | d_loss: 1.2112 | g_loss: 1.0930\n",
      "Epoch [   94/  100] | d_loss: 1.3928 | g_loss: 0.9048\n",
      "Epoch [   95/  100] | d_loss: 1.2834 | g_loss: 1.0160\n",
      "Epoch [   95/  100] | d_loss: 1.1971 | g_loss: 0.9857\n",
      "Epoch [   95/  100] | d_loss: 1.2914 | g_loss: 1.0484\n",
      "Epoch [   96/  100] | d_loss: 1.1663 | g_loss: 1.0740\n",
      "Epoch [   96/  100] | d_loss: 1.2102 | g_loss: 1.0053\n",
      "Epoch [   96/  100] | d_loss: 1.1780 | g_loss: 1.0165\n",
      "Epoch [   97/  100] | d_loss: 1.2149 | g_loss: 1.1921\n",
      "Epoch [   97/  100] | d_loss: 1.1902 | g_loss: 0.9203\n",
      "Epoch [   97/  100] | d_loss: 1.3000 | g_loss: 1.1089\n",
      "Epoch [   98/  100] | d_loss: 1.2898 | g_loss: 1.0926\n",
      "Epoch [   98/  100] | d_loss: 1.2549 | g_loss: 1.1654\n",
      "Epoch [   98/  100] | d_loss: 1.2150 | g_loss: 1.5140\n",
      "Epoch [   99/  100] | d_loss: 1.1507 | g_loss: 1.0100\n",
      "Epoch [   99/  100] | d_loss: 1.1410 | g_loss: 1.3222\n",
      "Epoch [   99/  100] | d_loss: 1.3381 | g_loss: 1.2563\n",
      "Epoch [  100/  100] | d_loss: 1.2652 | g_loss: 0.9863\n",
      "Epoch [  100/  100] | d_loss: 1.2291 | g_loss: 1.0638\n",
      "Epoch [  100/  100] | d_loss: 1.3202 | g_loss: 1.1055\n"
     ]
    }
   ],
   "source": [
    "import pickle as pkl\n",
    "\n",
    "# training hyperparams\n",
    "num_epochs = 100\n",
    "\n",
    "# keep track of loss and generated, \"fake\" samples\n",
    "samples = []\n",
    "losses = []\n",
    "\n",
    "print_every = 400\n",
    "\n",
    "# Get some fixed data for sampling. These are images that are held\n",
    "# constant throughout training, and allow us to inspect the model's performance\n",
    "sample_size=16\n",
    "fixed_z = np.random.uniform(-1, 1, size=(sample_size, z_size))\n",
    "fixed_z = torch.from_numpy(fixed_z).float()\n",
    "\n",
    "# train the network\n",
    "D.train()\n",
    "G.train()\n",
    "for epoch in range(num_epochs):\n",
    "    \n",
    "    for batch_i, (real_images, _) in enumerate(train_loader):\n",
    "                \n",
    "        batch_size = real_images.size(0)\n",
    "        \n",
    "        ## Important rescaling step ## \n",
    "        real_images = real_images*2 - 1  # rescale input images from [0,1) to [-1, 1)\n",
    "        \n",
    "        # ============================================\n",
    "        #            TRAIN THE DISCRIMINATOR\n",
    "        # ============================================\n",
    "        \n",
    "        d_optimizer.zero_grad()\n",
    "        \n",
    "        # 1. Train with real images\n",
    "\n",
    "        # Compute the discriminator losses on real images \n",
    "        # smooth the real labels\n",
    "        D_real = D(real_images)\n",
    "        d_real_loss = real_loss(D_real, smooth=True)\n",
    "        \n",
    "        # 2. Train with fake images\n",
    "        \n",
    "        # Generate fake images\n",
    "        z = np.random.uniform(-1, 1, size=(batch_size, z_size))\n",
    "        z = torch.from_numpy(z).float()\n",
    "        fake_images = G(z)\n",
    "        \n",
    "        # Compute the discriminator losses on fake images        \n",
    "        D_fake = D(fake_images)\n",
    "        d_fake_loss = fake_loss(D_fake)\n",
    "        \n",
    "        # add up loss and perform backprop\n",
    "        d_loss = d_real_loss + d_fake_loss\n",
    "        d_loss.backward()\n",
    "        d_optimizer.step()\n",
    "        \n",
    "        \n",
    "        # =========================================\n",
    "        #            TRAIN THE GENERATOR\n",
    "        # =========================================\n",
    "        g_optimizer.zero_grad()\n",
    "        \n",
    "        # 1. Train with fake images and flipped labels\n",
    "        \n",
    "        # Generate fake images\n",
    "        z = np.random.uniform(-1, 1, size=(batch_size, z_size))\n",
    "        z = torch.from_numpy(z).float()\n",
    "        fake_images = G(z)\n",
    "        \n",
    "        # Compute the discriminator losses on fake images \n",
    "        # using flipped labels!\n",
    "        D_fake = D(fake_images)\n",
    "        g_loss = real_loss(D_fake) # use real loss to flip labels\n",
    "        \n",
    "        # perform backprop\n",
    "        g_loss.backward()\n",
    "        g_optimizer.step()\n",
    "\n",
    "        # Print some loss stats\n",
    "        if batch_i % print_every == 0:\n",
    "            # print discriminator and generator loss\n",
    "            print('Epoch [{:5d}/{:5d}] | d_loss: {:6.4f} | g_loss: {:6.4f}'.format(\n",
    "                    epoch+1, num_epochs, d_loss.item(), g_loss.item()))\n",
    "\n",
    "    \n",
    "    ## AFTER EACH EPOCH##\n",
    "    # append discriminator loss and generator loss\n",
    "    losses.append((d_loss.item(), g_loss.item()))\n",
    "    \n",
    "    # generate and save sample, fake images\n",
    "    G.eval() # eval mode for generating samples\n",
    "    samples_z = G(fixed_z)\n",
    "    samples.append(samples_z)\n",
    "    G.train() # back to train mode\n",
    "\n",
    "\n",
    "# Save training generator samples\n",
    "with open('train_samples.pkl', 'wb') as f:\n",
    "    pkl.dump(samples, f)"
   ]
  },
  {
   "cell_type": "markdown",
   "metadata": {},
   "source": [
    "## Training loss\n",
    "\n",
    "Here we'll plot the training losses for the generator and discriminator, recorded after each epoch."
   ]
  },
  {
   "cell_type": "code",
   "execution_count": 12,
   "metadata": {},
   "outputs": [
    {
     "data": {
      "text/plain": [
       "<matplotlib.legend.Legend at 0x128a2f940>"
      ]
     },
     "execution_count": 12,
     "metadata": {},
     "output_type": "execute_result"
    },
    {
     "data": {
      "image/png": "[encoded data removed]",
      "text/plain": [
       "<Figure size 432x288 with 1 Axes>"
      ]
     },
     "metadata": {},
     "output_type": "display_data"
    }
   ],
   "source": [
    "fig, ax = plt.subplots()\n",
    "losses = np.array(losses)\n",
    "plt.plot(losses.T[0], label='Discriminator')\n",
    "plt.plot(losses.T[1], label='Generator')\n",
    "plt.title(\"Training Losses\")\n",
    "plt.legend()"
   ]
  },
  {
   "cell_type": "markdown",
   "metadata": {},
   "source": [
    "## Generator samples from training\n",
    "\n",
    "Here we can view samples of images from the generator. First we'll look at the images we saved during training."
   ]
  },
  {
   "cell_type": "code",
   "execution_count": 13,
   "metadata": {},
   "outputs": [],
   "source": [
    "# helper function for viewing a list of passed in sample images\n",
    "def view_samples(epoch, samples):\n",
    "    fig, axes = plt.subplots(figsize=(7,7), nrows=4, ncols=4, sharey=True, sharex=True)\n",
    "    for ax, img in zip(axes.flatten(), samples[epoch]):\n",
    "        img = img.detach()\n",
    "        ax.xaxis.set_visible(False)\n",
    "        ax.yaxis.set_visible(False)\n",
    "        im = ax.imshow(img.reshape((28,28)), cmap='Greys_r')"
   ]
  },
  {
   "cell_type": "code",
   "execution_count": 14,
   "metadata": {},
   "outputs": [],
   "source": [
    "# Load samples from generator, taken while training\n",
    "with open('train_samples.pkl', 'rb') as f:\n",
    "    samples = pkl.load(f)"
   ]
  },
  {
   "cell_type": "markdown",
   "metadata": {},
   "source": [
    "These are samples from the final training epoch. You can see the generator is able to reproduce numbers like 1, 7, 3, 2. Since this is just a sample, it isn't representative of the full range of images this generator can make."
   ]
  },
  {
   "cell_type": "code",
   "execution_count": 15,
   "metadata": {},
   "outputs": [
    {
     "data": {
      "image/png": "[encoded data removed]",
      "text/plain": [
       "<Figure size 504x504 with 16 Axes>"
      ]
     },
     "metadata": {},
     "output_type": "display_data"
    }
   ],
   "source": [
    "# -1 indicates final epoch's samples (the last in the list)\n",
    "view_samples(-1, samples)"
   ]
  },
  {
   "cell_type": "markdown",
   "metadata": {},
   "source": [
    "Below I'm showing the generated images as the network was training, every 10 epochs."
   ]
  },
  {
   "cell_type": "code",
   "execution_count": 16,
   "metadata": {},
   "outputs": [
    {
     "data": {
      "image/png": "[encoded data removed]",
      "text/plain": [
       "<Figure size 504x864 with 60 Axes>"
      ]
     },
     "metadata": {},
     "output_type": "display_data"
    }
   ],
   "source": [
    "rows = 10 # split epochs into 10, so 100/10 = every 10 epochs\n",
    "cols = 6\n",
    "fig, axes = plt.subplots(figsize=(7,12), nrows=rows, ncols=cols, sharex=True, sharey=True)\n",
    "\n",
    "for sample, ax_row in zip(samples[::int(len(samples)/rows)], axes):\n",
    "    for img, ax in zip(sample[::int(len(sample)/cols)], ax_row):\n",
    "        img = img.detach()\n",
    "        ax.imshow(img.reshape((28,28)), cmap='Greys_r')\n",
    "        ax.xaxis.set_visible(False)\n",
    "        ax.yaxis.set_visible(False)"
   ]
  },
  {
   "cell_type": "markdown",
   "metadata": {},
   "source": [
    "It starts out as all noise. Then it learns to make only the center white and the rest black. You can start to see some number like structures appear out of the noise like 1s and 9s."
   ]
  },
  {
   "cell_type": "markdown",
   "metadata": {},
   "source": [
    "## Sampling from the generator\n",
    "\n",
    "We can also get completely new images from the generator by using the checkpoint we saved after training. **We just need to pass in a new latent vector $z$ and we'll get new samples**!"
   ]
  },
  {
   "cell_type": "code",
   "execution_count": 17,
   "metadata": {},
   "outputs": [
    {
     "name": "stderr",
     "output_type": "stream",
     "text": [
      "/anaconda3/envs/self_driving/lib/python3.6/site-packages/torch/nn/functional.py:1374: UserWarning: nn.functional.tanh is deprecated. Use torch.tanh instead.\n",
      "  warnings.warn(\"nn.functional.tanh is deprecated. Use torch.tanh instead.\")\n"
     ]
    },
    {
     "data": {
      "image/png": "[encoded data removed]",
      "text/plain": [
       "<Figure size 504x504 with 16 Axes>"
      ]
     },
     "metadata": {},
     "output_type": "display_data"
    }
   ],
   "source": [
    "# randomly generated, new latent vectors\n",
    "sample_size=16\n",
    "rand_z = np.random.uniform(-1, 1, size=(sample_size, z_size))\n",
    "rand_z = torch.from_numpy(rand_z).float()\n",
    "\n",
    "G.eval() # eval mode\n",
    "# generated samples\n",
    "rand_images = G(rand_z)\n",
    "\n",
    "# 0 indicates the first set of samples in the passed in list\n",
    "# and we only have one batch of samples, here\n",
    "view_samples(0, [rand_images])"
   ]
  },
  {
   "cell_type": "code",
   "execution_count": 18,
   "metadata": {},
   "outputs": [
    {
     "data": {
      "text/plain": [
       "<_io.BufferedReader name='train_samples.pkl'>"
      ]
     },
     "execution_count": 18,
     "metadata": {},
     "output_type": "execute_result"
    }
   ],
   "source": [
    "f"
   ]
  }
 ],
 "metadata": {
  "kernelspec": {
   "display_name": "Python [default]",
   "language": "python",
   "name": "python3"
  },
  "language_info": {
   "codemirror_mode": {
    "name": "ipython",
    "version": 3
   },
   "file_extension": ".py",
   "mimetype": "text/x-python",
   "name": "python",
   "nbconvert_exporter": "python",
   "pygments_lexer": "ipython3",
   "version": "3.6.7"
  }
 },
 "nbformat": 4,
 "nbformat_minor": 2
}
